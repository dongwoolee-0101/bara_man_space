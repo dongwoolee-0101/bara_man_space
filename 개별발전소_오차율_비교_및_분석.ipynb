{
 "cells": [
  {
   "cell_type": "code",
   "execution_count": null,
   "metadata": {},
   "outputs": [],
   "source": [
    "import pandas as pd\n",
    "import numpy as np"
   ]
  },
  {
   "cell_type": "code",
   "execution_count": null,
   "metadata": {},
   "outputs": [],
   "source": [
    "class performance_check_plant_id:\n",
    "    def __init__(self,filedir,filename,pred_time,check_start_date,check_end_date):\n",
    "        self.filedir = filedir\n",
    "        self.filename = filename\n",
    "        self.pred_time = pred_time\n",
    "        self.check_start_date = check_start_date\n",
    "        self.check_end_date = check_end_date\n",
    "        \n",
    "    def read_result_file(self):\n",
    "        result_df = pd.read_csv(self.filedir+self.filename+self.pred_time+'.csv',index_col=0)\n",
    "        result_df = result_df[(result_df.base_date>=self.check_start_date)&(result_df.base_date<=self.check_end_date)].reset_index(drop=True)\n",
    "        result_df['gen_hour'] = result_df['pv_amount'] / result_df['kpx_capacity']\n",
    "        result_df['gen_hour_pred'] = result_df['pv_amount_prediction'] / result_df['kpx_capacity']\n",
    "        return result_df\n",
    "    \n",
    "    @staticmethod\n",
    "    def get_nmae(result_merge):\n",
    "        tot_nmae = np.mean(result_merge.nmae[result_merge.use>=0.1])\n",
    "        tc= np.sum(result_merge.pv_amount[result_merge.use>=0.1])*4\n",
    "        c4 =np.sum(result_merge.pv_amount[(result_merge.use>=0.1)&(result_merge.nmae<=0.06)])*4\n",
    "        c3 =np.sum(result_merge.pv_amount[(result_merge.use>=0.1)&(result_merge.nmae>0.06)&(result_merge.nmae<=0.08)])*3\n",
    "        tcc = (c4+c3)/tc\n",
    "        return tot_nmae\n",
    "    \n",
    "    @staticmethod\n",
    "    def monthly_result_report(monthly_result_df):\n",
    "        monthly_plant_result = []\n",
    "        for base_date in monthly_result_df.base_date.unique():\n",
    "            fslc003_pred0_by_date = monthly_result_df[monthly_result_df.base_date==base_date].reset_index(drop=True)\n",
    "            for plant_id in fslc003_pred0_by_date.plant_id.unique():\n",
    "                fslc003_pred0_by_date_pid = fslc003_pred0_by_date[fslc003_pred0_by_date.plant_id==plant_id].reset_index(drop=True)\n",
    "                monthly_plant_result.append([base_date,plant_id,np.round(performance_check_plant_id.get_nmae(fslc003_pred0_by_date_pid),4)])\n",
    "        monthly_plant_result_df = pd.DataFrame(monthly_plant_result,columns=['base_date','plant_id','nmae'])\n",
    "        monthly_plant_result_df_nmae_count = monthly_plant_result_df.pivot_table(index=['plant_id'],values='nmae',aggfunc= lambda x:(x>=0.1).sum()).reset_index()\n",
    "        monthly_plant_result_df_nmae_count = monthly_plant_result_df_nmae_count.sort_values(by=['nmae']).reset_index(drop=True)\n",
    "        monthly_plant_result_df_nmae_count = monthly_plant_result_df_nmae_count.rename(columns={'nmae':'nmae_count'})\n",
    "        return monthly_plant_result_df_nmae_count"
   ]
  },
  {
   "cell_type": "code",
   "execution_count": null,
   "metadata": {},
   "outputs": [],
   "source": [
    "performance_check_plant_id = performance_check_plant_id(\n",
    "    filedir = \"./fSLC003_연구/결과파일/\",\n",
    "    filename = \"result_ldaps_\",\n",
    "    pred_time='1',\n",
    "    check_start_date = \"2022-11-01\",\n",
    "    check_end_date = \"2022-11-30\",\n",
    ")"
   ]
  },
  {
   "cell_type": "code",
   "execution_count": null,
   "metadata": {},
   "outputs": [],
   "source": [
    "result_df = performance_check_plant_id.read_result_file()\n",
    "performance_check_plant_id.monthly_result_report(result_df)"
   ]
  },
  {
   "cell_type": "code",
   "execution_count": null,
   "metadata": {},
   "outputs": [],
   "source": []
  }
 ],
 "metadata": {
  "kernelspec": {
   "display_name": "Python 3.7.9 ('bara')",
   "language": "python",
   "name": "python3"
  },
  "language_info": {
   "codemirror_mode": {
    "name": "ipython",
    "version": 3
   },
   "file_extension": ".py",
   "mimetype": "text/x-python",
   "name": "python",
   "nbconvert_exporter": "python",
   "pygments_lexer": "ipython3",
   "version": "3.7.9"
  },
  "orig_nbformat": 4,
  "vscode": {
   "interpreter": {
    "hash": "bcb39c947bdd73fc4d875cada2215b95a6f62728efb609b06cf856c2a085bf66"
   }
  }
 },
 "nbformat": 4,
 "nbformat_minor": 2
}
